{
  "nbformat": 4,
  "nbformat_minor": 0,
  "metadata": {
    "colab": {
      "name": "Deep Learning on Tips dataset.ipynb",
      "provenance": [],
      "authorship_tag": "ABX9TyO/A/ZAsKqBRfcaExLBCddj",
      "include_colab_link": true
    },
    "kernelspec": {
      "name": "python3",
      "display_name": "Python 3"
    },
    "accelerator": "GPU"
  },
  "cells": [
    {
      "cell_type": "markdown",
      "metadata": {
        "id": "view-in-github",
        "colab_type": "text"
      },
      "source": [
        "<a href=\"https://colab.research.google.com/github/nonoumasy/Deep-Learning-on-Tips-dataset/blob/master/Deep_Learning_on_Tips_dataset.ipynb\" target=\"_parent\"><img src=\"https://colab.research.google.com/assets/colab-badge.svg\" alt=\"Open In Colab\"/></a>"
      ]
    },
    {
      "cell_type": "markdown",
      "metadata": {
        "id": "t_LFV-WEh24S",
        "colab_type": "text"
      },
      "source": [
        "# Classification\n"
      ]
    },
    {
      "cell_type": "code",
      "metadata": {
        "id": "A2hxM8wgXG89",
        "colab_type": "code",
        "colab": {}
      },
      "source": [
        "import pandas as pd\n",
        "import numpy as np\n",
        "import seaborn as sns\n",
        "import matplotlib.pyplot as plt\n",
        "%matplotlib inline\n",
        "\n",
        "from sklearn.preprocessing import StandardScaler\n",
        "from sklearn.cluster import KMeans\n",
        "from sklearn.pipeline import make_pipeline\n",
        "from sklearn.compose import make_column_transformer\n",
        "from sklearn.preprocessing import OneHotEncoder\n",
        "from sklearn.linear_model import LinearRegression\n",
        "from sklearn.model_selection import train_test_split\n",
        "from sklearn.metrics import accuracy_score\n",
        "from sklearn.metrics import r2_score\n",
        "from sklearn.model_selection import RandomizedSearchCV\n",
        "from sklearn.model_selection import KFold\n",
        "\n",
        "\n",
        "from keras.models import Sequential\n",
        "from keras.layers import Dense\n",
        "from keras.utils.np_utils import to_categorical\n",
        "from keras.callbacks import EarlyStopping\n",
        "from keras.layers import BatchNormalization\n",
        "from keras.wrappers.scikit_learn import KerasClassifier\n",
        "from keras.optimizers import Adam"
      ],
      "execution_count": 0,
      "outputs": []
    },
    {
      "cell_type": "code",
      "metadata": {
        "id": "h68fTThujD0z",
        "colab_type": "code",
        "colab": {}
      },
      "source": [
        "tips_df = sns.load_dataset('tips')"
      ],
      "execution_count": 0,
      "outputs": []
    },
    {
      "cell_type": "markdown",
      "metadata": {
        "id": "kc1vy9USicUS",
        "colab_type": "text"
      },
      "source": [
        "#Classification\n",
        "\n",
        "Classifying 'sex' of patron based on the following features: 'total_bill', 'tip', 'smoker', 'day', 'time', 'size'"
      ]
    },
    {
      "cell_type": "code",
      "metadata": {
        "id": "AeSU9EC3u66I",
        "colab_type": "code",
        "colab": {}
      },
      "source": [
        "# classification\n",
        "X = tips_df.drop(['sex'], axis=1)\n",
        "y = to_categorical(pd.Categorical(tips_df.sex).codes)\n"
      ],
      "execution_count": 0,
      "outputs": []
    },
    {
      "cell_type": "code",
      "metadata": {
        "id": "Zik55BfNvpcQ",
        "colab_type": "code",
        "colab": {}
      },
      "source": [
        "# preprocessing for classification\n",
        "col_trans = make_column_transformer((OneHotEncoder(), ['time', 'smoker', 'day']), remainder ='passthrough')\n",
        "scaler = StandardScaler()\n",
        "\n",
        "pipe = make_pipeline(col_trans, scaler)\n",
        "X_scaled = pipe.fit_transform(X)"
      ],
      "execution_count": 0,
      "outputs": []
    },
    {
      "cell_type": "code",
      "metadata": {
        "id": "FBZ2ZuZxrTdX",
        "colab_type": "code",
        "colab": {
          "base_uri": "https://localhost:8080/",
          "height": 340
        },
        "outputId": "df5f71bb-6dd7-4977-8792-d3ff05e432f2"
      },
      "source": [
        "# deep learning classification\n",
        "n_cols = X_scaled.shape[1]\n",
        "\n",
        "model = Sequential()\n",
        "model.add(Dense(100, activation='relu', input_shape=(n_cols,)))\n",
        "model.add(Dense(100, activation='relu', input_shape=(n_cols,)))\n",
        "model.add(Dense(50, activation='relu', input_shape=(n_cols,)))\n",
        "model.add(Dense(2, activation='sigmoid'))\n",
        "model.compile(optimizer='adam', loss='binary_crossentropy', metrics=['accuracy'])\n",
        "\n",
        "model.fit(X_scaled, \n",
        "          y, \n",
        "          epochs=100, \n",
        "          validation_split=0.3,\n",
        "          callbacks=[EarlyStopping(monitor='val_loss', patience=5)],\n",
        "          batch_size=32,\n",
        "          );"
      ],
      "execution_count": 48,
      "outputs": [
        {
          "output_type": "stream",
          "text": [
            "Train on 170 samples, validate on 74 samples\n",
            "Epoch 1/100\n",
            "170/170 [==============================] - 1s 3ms/step - loss: 0.6772 - acc: 0.6118 - val_loss: 0.6220 - val_acc: 0.6892\n",
            "Epoch 2/100\n",
            "170/170 [==============================] - 0s 170us/step - loss: 0.6507 - acc: 0.6235 - val_loss: 0.6044 - val_acc: 0.6892\n",
            "Epoch 3/100\n",
            "170/170 [==============================] - 0s 158us/step - loss: 0.6344 - acc: 0.6382 - val_loss: 0.5985 - val_acc: 0.6824\n",
            "Epoch 4/100\n",
            "170/170 [==============================] - 0s 176us/step - loss: 0.6285 - acc: 0.6529 - val_loss: 0.5894 - val_acc: 0.6757\n",
            "Epoch 5/100\n",
            "170/170 [==============================] - 0s 165us/step - loss: 0.6189 - acc: 0.6618 - val_loss: 0.5921 - val_acc: 0.6622\n",
            "Epoch 6/100\n",
            "170/170 [==============================] - 0s 169us/step - loss: 0.6125 - acc: 0.6794 - val_loss: 0.6009 - val_acc: 0.6757\n",
            "Epoch 7/100\n",
            "170/170 [==============================] - 0s 161us/step - loss: 0.6075 - acc: 0.6824 - val_loss: 0.6014 - val_acc: 0.6622\n",
            "Epoch 8/100\n",
            "170/170 [==============================] - 0s 168us/step - loss: 0.6031 - acc: 0.6765 - val_loss: 0.6036 - val_acc: 0.6689\n",
            "Epoch 9/100\n",
            "170/170 [==============================] - 0s 177us/step - loss: 0.5994 - acc: 0.6853 - val_loss: 0.6016 - val_acc: 0.6689\n"
          ],
          "name": "stdout"
        }
      ]
    },
    {
      "cell_type": "code",
      "metadata": {
        "id": "ufsDSujgm6TN",
        "colab_type": "code",
        "colab": {
          "base_uri": "https://localhost:8080/",
          "height": 279
        },
        "outputId": "962ae86a-15be-46ed-e02d-1c9b62b9004f"
      },
      "source": [
        "plt.plot(model.history.history['acc'], 'r')\n",
        "plt.plot(model.history.history['val_acc'], 'b')\n",
        "plt.xlabel('epoch')\n",
        "plt.ylabel('accuracy')\n",
        "plt.show()"
      ],
      "execution_count": 49,
      "outputs": [
        {
          "output_type": "display_data",
          "data": {
            "image/png": "[encoded data removed]",
            "text/plain": [
              "<Figure size 432x288 with 1 Axes>"
            ]
          },
          "metadata": {
            "tags": []
          }
        }
      ]
    },
    {
      "cell_type": "code",
      "metadata": {
        "id": "kuYvwJulOITN",
        "colab_type": "code",
        "colab": {
          "base_uri": "https://localhost:8080/",
          "height": 289
        },
        "outputId": "99e97d04-0575-4a49-fd5a-2ed8d141c2d1"
      },
      "source": [
        "model.summary()"
      ],
      "execution_count": 50,
      "outputs": [
        {
          "output_type": "stream",
          "text": [
            "Model: \"sequential_6\"\n",
            "_________________________________________________________________\n",
            "Layer (type)                 Output Shape              Param #   \n",
            "=================================================================\n",
            "dense_21 (Dense)             (None, 100)               1200      \n",
            "_________________________________________________________________\n",
            "dense_22 (Dense)             (None, 100)               10100     \n",
            "_________________________________________________________________\n",
            "dense_23 (Dense)             (None, 50)                5050      \n",
            "_________________________________________________________________\n",
            "dense_24 (Dense)             (None, 2)                 102       \n",
            "=================================================================\n",
            "Total params: 16,452\n",
            "Trainable params: 16,452\n",
            "Non-trainable params: 0\n",
            "_________________________________________________________________\n"
          ],
          "name": "stdout"
        }
      ]
    },
    {
      "cell_type": "code",
      "metadata": {
        "id": "QAGPOHqZTZx4",
        "colab_type": "code",
        "colab": {}
      },
      "source": [
        "# deep learning classification with RandomSearchCV\n",
        "def create_model(activation='relu', learning_rate=0.01):\n",
        "  n_cols = X_scaled.shape[1]\n",
        "  opt = Adam(lr=learning_rate)\n",
        "\n",
        "  model = Sequential()\n",
        "  model.add(Dense(50, activation=activation, input_shape=(n_cols,)))\n",
        "  model.add(Dense(50, activation=activation, input_shape=(n_cols,)))\n",
        "  model.add(Dense(50, activation=activation, input_shape=(n_cols,)))\n",
        "  model.add(Dense(2, activation='sigmoid'))\n",
        "  model.compile(optimizer=opt, loss='binary_crossentropy', metrics=['accuracy'])\n",
        "\n",
        "  model.fit(X_scaled, \n",
        "          y, \n",
        "          #epochs=epochs, \n",
        "          validation_split=0.3,\n",
        "          callbacks=[EarlyStopping(monitor='val_loss', patience=5)],\n",
        "          #batch_size=batch_size,\n",
        "          )\n",
        "  return model\n",
        "\n",
        "Kmodel = KerasClassifier(build_fn=create_model)\n",
        "\n",
        "# Define the parameters to try out\n",
        "params = {'activation':['relu', 'tanh'], 'batch_size':[32, 128, 256], \n",
        "          'epochs':[50, 100, 200], 'learning_rate':[0.1, 0.01, 0.001]}\n",
        "\n",
        "random_search = RandomizedSearchCV(Kmodel, param_distributions=params, cv=KFold(3))\n",
        "random_search.fit(X_scaled, y)"
      ],
      "execution_count": 0,
      "outputs": []
    },
    {
      "cell_type": "code",
      "metadata": {
        "id": "ER4_Bs9oY9Nm",
        "colab_type": "code",
        "colab": {
          "base_uri": "https://localhost:8080/",
          "height": 34
        },
        "outputId": "58e14168-7cdd-45f0-fbd2-de548e71e86d"
      },
      "source": [
        "random_search.best_params_"
      ],
      "execution_count": 54,
      "outputs": [
        {
          "output_type": "execute_result",
          "data": {
            "text/plain": [
              "{'activation': 'relu', 'batch_size': 32, 'epochs': 100, 'learning_rate': 0.1}"
            ]
          },
          "metadata": {
            "tags": []
          },
          "execution_count": 54
        }
      ]
    },
    {
      "cell_type": "code",
      "metadata": {
        "id": "ys7f7MxzltIH",
        "colab_type": "code",
        "colab": {
          "base_uri": "https://localhost:8080/",
          "height": 34
        },
        "outputId": "afe9f7ed-c213-482d-9460-011ca2855559"
      },
      "source": [
        "tips_df.columns"
      ],
      "execution_count": 53,
      "outputs": [
        {
          "output_type": "execute_result",
          "data": {
            "text/plain": [
              "Index(['total_bill', 'tip', 'sex', 'smoker', 'day', 'time', 'size'], dtype='object')"
            ]
          },
          "metadata": {
            "tags": []
          },
          "execution_count": 53
        }
      ]
    },
    {
      "cell_type": "markdown",
      "metadata": {
        "id": "GNiXIYa4h9_v",
        "colab_type": "text"
      },
      "source": [
        "# Regression\n",
        "\n",
        "Predicting 'tip' based on the following features: 'total_bill', 'sex', 'smoker', 'day', 'time', 'size'"
      ]
    },
    {
      "cell_type": "code",
      "metadata": {
        "id": "loDBxGVvkc6r",
        "colab_type": "code",
        "colab": {}
      },
      "source": [
        "# regression\n",
        "X = tips_df.drop(['tip'], axis=1)\n",
        "y = tips_df['tip']\n",
        "y_reshaped = y.values.reshape(-1,1)"
      ],
      "execution_count": 0,
      "outputs": []
    },
    {
      "cell_type": "code",
      "metadata": {
        "id": "J2Mnp1ccjNVe",
        "colab_type": "code",
        "colab": {}
      },
      "source": [
        "# preprocessing for regression\n",
        "col_trans = make_column_transformer((OneHotEncoder(), ['sex', 'smoker', 'day', 'time']), remainder ='passthrough')\n",
        "scaler = StandardScaler()\n",
        "\n",
        "pipe = make_pipeline(col_trans, scaler)\n",
        "X_scaled = pipe.fit_transform(X)"
      ],
      "execution_count": 0,
      "outputs": []
    },
    {
      "cell_type": "code",
      "metadata": {
        "id": "PdpJrryAoYqK",
        "colab_type": "code",
        "colab": {
          "base_uri": "https://localhost:8080/",
          "height": 238
        },
        "outputId": "55c9f74b-0fcf-4c9d-b3b6-778d58c3a0c6"
      },
      "source": [
        "# deep learning regression \n",
        "\n",
        "n_cols = X_scaled.shape[1]\n",
        "\n",
        "model = Sequential()\n",
        "model.add(Dense(500, activation='relu', input_shape=(n_cols,)))\n",
        "model.add(Dense(300, activation='relu'))\n",
        "model.add(Dense(300, activation='relu'))\n",
        "model.add(Dense(1))\n",
        "model.compile(optimizer='adam', loss='mean_squared_error')\n",
        "\n",
        "model.fit(X_scaled, y_reshaped, validation_split=0.3, epochs=5)\n",
        "model.evaluate(X_scaled, y_reshaped)"
      ],
      "execution_count": 44,
      "outputs": [
        {
          "output_type": "stream",
          "text": [
            "Train on 170 samples, validate on 74 samples\n",
            "Epoch 1/5\n",
            "170/170 [==============================] - 0s 2ms/step - loss: 6.8662 - val_loss: 2.3118\n",
            "Epoch 2/5\n",
            "170/170 [==============================] - 0s 155us/step - loss: 1.8381 - val_loss: 1.8538\n",
            "Epoch 3/5\n",
            "170/170 [==============================] - 0s 159us/step - loss: 1.0412 - val_loss: 2.3331\n",
            "Epoch 4/5\n",
            "170/170 [==============================] - 0s 159us/step - loss: 1.0348 - val_loss: 1.8092\n",
            "Epoch 5/5\n",
            "170/170 [==============================] - 0s 182us/step - loss: 0.8719 - val_loss: 1.8040\n",
            "244/244 [==============================] - 0s 54us/step\n"
          ],
          "name": "stdout"
        },
        {
          "output_type": "execute_result",
          "data": {
            "text/plain": [
              "1.0549951127318085"
            ]
          },
          "metadata": {
            "tags": []
          },
          "execution_count": 44
        }
      ]
    },
    {
      "cell_type": "code",
      "metadata": {
        "id": "3OIQC2IulOJL",
        "colab_type": "code",
        "colab": {}
      },
      "source": [
        "r2_score()"
      ],
      "execution_count": 0,
      "outputs": []
    },
    {
      "cell_type": "code",
      "metadata": {
        "id": "3aYv2yf4xBho",
        "colab_type": "code",
        "colab": {}
      },
      "source": [
        "# Using LogisticRegression\n",
        "\n",
        "X_train, X_test, y_train, y_test = train_test_split(X_scaled, y)\n",
        "\n",
        "lin_reg = LinearRegression(normalize=True)\n",
        "lin_reg.fit(X_train, y_train)\n",
        "y_pred = lin_reg.predict(X_test)"
      ],
      "execution_count": 0,
      "outputs": []
    },
    {
      "cell_type": "code",
      "metadata": {
        "id": "HKRovvaDjtQZ",
        "colab_type": "code",
        "colab": {
          "base_uri": "https://localhost:8080/",
          "height": 34
        },
        "outputId": "7d01c745-e279-4133-d776-05af4227c0ef"
      },
      "source": [
        "#\n",
        "lin_reg.score(X_test, y_test)\n",
        "\n",
        "#\n",
        "r2_score(y_test, y_pred)"
      ],
      "execution_count": 42,
      "outputs": [
        {
          "output_type": "execute_result",
          "data": {
            "text/plain": [
              "0.34507339470752063"
            ]
          },
          "metadata": {
            "tags": []
          },
          "execution_count": 42
        }
      ]
    }
  ]
}
{
  "nbformat": 4,
  "nbformat_minor": 0,
  "metadata": {
    "colab": {
      "name": "Deep Learning on Tips dataset.ipynb",
      "provenance": [],
      "authorship_tag": "ABX9TyOkUxNCtWvlQUw5q31QfTlZ",
      "include_colab_link": true
    },
    "kernelspec": {
      "name": "python3",
      "display_name": "Python 3"
    },
    "accelerator": "GPU"
  },
  "cells": [
    {
      "cell_type": "markdown",
      "metadata": {
        "id": "view-in-github",
        "colab_type": "text"
      },
      "source": [
        "<a href=\"https://colab.research.google.com/github/nonoumasy/Deep-Learning-on-Tips-dataset/blob/master/Deep_Learning_on_Tips_dataset.ipynb\" target=\"_parent\"><img src=\"https://colab.research.google.com/assets/colab-badge.svg\" alt=\"Open In Colab\"/></a>"
      ]
    },
    {
      "cell_type": "markdown",
      "metadata": {
        "id": "t_LFV-WEh24S",
        "colab_type": "text"
      },
      "source": [
        "# Classification\n"
      ]
    },
    {
      "cell_type": "code",
      "metadata": {
        "id": "A2hxM8wgXG89",
        "colab_type": "code",
        "outputId": "c126157f-0d70-48db-f03e-c3fed315dede",
        "colab": {
          "base_uri": "https://localhost:8080/",
          "height": 80
        }
      },
      "source": [
        "import pandas as pd\n",
        "import numpy as np\n",
        "import seaborn as sns\n",
        "import matplotlib.pyplot as plt\n",
        "%matplotlib inline\n",
        "\n",
        "from sklearn.preprocessing import StandardScaler\n",
        "from sklearn.pipeline import make_pipeline\n",
        "from sklearn.compose import make_column_transformer\n",
        "from sklearn.preprocessing import OneHotEncoder\n",
        "from sklearn.model_selection import train_test_split\n",
        "from sklearn.model_selection import RandomizedSearchCV\n",
        "from sklearn.model_selection import KFold\n",
        "\n",
        "from keras.models import Sequential\n",
        "from keras.layers import Dense\n",
        "from keras.utils.np_utils import to_categorical\n",
        "from keras.callbacks import EarlyStopping\n",
        "from keras.layers import BatchNormalization\n",
        "from keras.wrappers.scikit_learn import KerasClassifier\n",
        "from keras.optimizers import Adam"
      ],
      "execution_count": 3,
      "outputs": [
        {
          "output_type": "stream",
          "text": [
            "Using TensorFlow backend.\n"
          ],
          "name": "stderr"
        },
        {
          "output_type": "display_data",
          "data": {
            "text/html": [
              "<p style=\"color: red;\">\n",
              "The default version of TensorFlow in Colab will switch to TensorFlow 2.x on the 27th of March, 2020.<br>\n",
              "We recommend you <a href=\"https://www.tensorflow.org/guide/migrate\" target=\"_blank\">upgrade</a> now\n",
              "or ensure your notebook will continue to use TensorFlow 1.x via the <code>%tensorflow_version 1.x</code> magic:\n",
              "<a href=\"https://colab.research.google.com/notebooks/tensorflow_version.ipynb\" target=\"_blank\">more info</a>.</p>\n"
            ],
            "text/plain": [
              "<IPython.core.display.HTML object>"
            ]
          },
          "metadata": {
            "tags": []
          }
        }
      ]
    },
    {
      "cell_type": "code",
      "metadata": {
        "id": "h68fTThujD0z",
        "colab_type": "code",
        "colab": {}
      },
      "source": [
        "tips_df = sns.load_dataset('tips')"
      ],
      "execution_count": 0,
      "outputs": []
    },
    {
      "cell_type": "markdown",
      "metadata": {
        "id": "kc1vy9USicUS",
        "colab_type": "text"
      },
      "source": [
        "#Classification\n",
        "\n",
        "Classifying 'sex' of patron based on the following features: 'total_bill', 'tip', 'smoker', 'day', 'time', 'size'"
      ]
    },
    {
      "cell_type": "code",
      "metadata": {
        "id": "AeSU9EC3u66I",
        "colab_type": "code",
        "colab": {}
      },
      "source": [
        "# assign dataset to feature and target variables\n",
        "X = tips_df.drop(['sex'], axis=1)\n",
        "y = to_categorical(pd.Categorical(tips_df.sex).codes)\n"
      ],
      "execution_count": 0,
      "outputs": []
    },
    {
      "cell_type": "code",
      "metadata": {
        "id": "Zik55BfNvpcQ",
        "colab_type": "code",
        "colab": {}
      },
      "source": [
        "# preprocessing for classification\n",
        "col_trans = make_column_transformer((OneHotEncoder(), ['time', 'smoker', 'day']), remainder ='passthrough')\n",
        "\n",
        "# not sure if we need to scale the dataset. I used keras BatchNormalization but found scaling the data got a better score.\n",
        "ss = StandardScaler() \n",
        "\n",
        "# preprocessing pipeline\n",
        "pipe = make_pipeline(col_trans, ss)\n",
        "X_scaled = pipe.fit_transform(X)\n",
        "\n",
        "X_train, X_test, y_train, y_test = train_test_split(X_scaled, y)"
      ],
      "execution_count": 0,
      "outputs": []
    },
    {
      "cell_type": "code",
      "metadata": {
        "id": "FBZ2ZuZxrTdX",
        "colab_type": "code",
        "outputId": "eee66414-f64a-4da6-84c1-44a64b495171",
        "colab": {
          "base_uri": "https://localhost:8080/",
          "height": 1000
        }
      },
      "source": [
        "# deep learning classification\n",
        "n_cols = X_scaled.shape[1]\n",
        "\n",
        "model = Sequential()\n",
        "model.add(Dense(32, activation='relu', input_shape=(n_cols,)))\n",
        "model.add(Dense(16, activation='relu'))\n",
        "model.add(Dense(8, activation='relu'))\n",
        "model.add(Dense(2, activation='relu'))\n",
        "\n",
        "model.compile(optimizer='adam', loss='binary_crossentropy', metrics=['accuracy'])\n",
        "\n",
        "model.fit(X_train, \n",
        "          y_train, \n",
        "          epochs=100, \n",
        "          validation_split=0.3,\n",
        "          callbacks=[EarlyStopping(monitor='val_loss', patience=2)],\n",
        "          batch_size=32,\n",
        "          );\n",
        "\n",
        "# visualize results\n",
        "plt.plot(model.history.history['acc'], 'r')\n",
        "plt.plot(model.history.history['val_acc'], 'b')\n",
        "plt.xlabel('epoch')\n",
        "plt.ylabel('accuracy')\n",
        "plt.show()"
      ],
      "execution_count": 36,
      "outputs": [
        {
          "output_type": "stream",
          "text": [
            "Train on 128 samples, validate on 55 samples\n",
            "Epoch 1/100\n",
            "128/128 [==============================] - 1s 9ms/step - loss: 3.1263 - acc: 0.5039 - val_loss: 2.4396 - val_acc: 0.5000\n",
            "Epoch 2/100\n",
            "128/128 [==============================] - 0s 184us/step - loss: 2.2976 - acc: 0.5078 - val_loss: 2.0203 - val_acc: 0.4909\n",
            "Epoch 3/100\n",
            "128/128 [==============================] - 0s 155us/step - loss: 1.9346 - acc: 0.5117 - val_loss: 1.7072 - val_acc: 0.4909\n",
            "Epoch 4/100\n",
            "128/128 [==============================] - 0s 158us/step - loss: 1.5673 - acc: 0.5039 - val_loss: 1.4207 - val_acc: 0.4818\n",
            "Epoch 5/100\n",
            "128/128 [==============================] - 0s 151us/step - loss: 1.1568 - acc: 0.5312 - val_loss: 0.9850 - val_acc: 0.5000\n",
            "Epoch 6/100\n",
            "128/128 [==============================] - 0s 153us/step - loss: 0.9940 - acc: 0.5508 - val_loss: 0.9400 - val_acc: 0.5000\n",
            "Epoch 7/100\n",
            "128/128 [==============================] - 0s 169us/step - loss: 0.9056 - acc: 0.5625 - val_loss: 0.7977 - val_acc: 0.4909\n",
            "Epoch 8/100\n",
            "128/128 [==============================] - 0s 144us/step - loss: 0.8413 - acc: 0.5703 - val_loss: 0.7785 - val_acc: 0.5000\n",
            "Epoch 9/100\n",
            "128/128 [==============================] - 0s 237us/step - loss: 0.8152 - acc: 0.5625 - val_loss: 0.7650 - val_acc: 0.5000\n",
            "Epoch 10/100\n",
            "128/128 [==============================] - 0s 144us/step - loss: 0.7981 - acc: 0.5742 - val_loss: 0.7549 - val_acc: 0.5091\n",
            "Epoch 11/100\n",
            "128/128 [==============================] - 0s 159us/step - loss: 0.7422 - acc: 0.5742 - val_loss: 0.7453 - val_acc: 0.5091\n",
            "Epoch 12/100\n",
            "128/128 [==============================] - 0s 170us/step - loss: 0.7251 - acc: 0.5742 - val_loss: 0.7362 - val_acc: 0.5091\n",
            "Epoch 13/100\n",
            "128/128 [==============================] - 0s 173us/step - loss: 0.7150 - acc: 0.5742 - val_loss: 0.7277 - val_acc: 0.5091\n",
            "Epoch 14/100\n",
            "128/128 [==============================] - 0s 157us/step - loss: 0.7077 - acc: 0.5703 - val_loss: 0.7202 - val_acc: 0.5091\n",
            "Epoch 15/100\n",
            "128/128 [==============================] - 0s 148us/step - loss: 0.6999 - acc: 0.5781 - val_loss: 0.7123 - val_acc: 0.5091\n",
            "Epoch 16/100\n",
            "128/128 [==============================] - 0s 135us/step - loss: 0.6937 - acc: 0.5820 - val_loss: 0.7059 - val_acc: 0.5000\n",
            "Epoch 17/100\n",
            "128/128 [==============================] - 0s 150us/step - loss: 0.6890 - acc: 0.5898 - val_loss: 0.6986 - val_acc: 0.5091\n",
            "Epoch 18/100\n",
            "128/128 [==============================] - 0s 151us/step - loss: 0.6835 - acc: 0.5938 - val_loss: 0.6923 - val_acc: 0.5182\n",
            "Epoch 19/100\n",
            "128/128 [==============================] - 0s 143us/step - loss: 0.6788 - acc: 0.5898 - val_loss: 0.6865 - val_acc: 0.5182\n",
            "Epoch 20/100\n",
            "128/128 [==============================] - 0s 150us/step - loss: 0.6741 - acc: 0.5938 - val_loss: 0.6807 - val_acc: 0.5182\n",
            "Epoch 21/100\n",
            "128/128 [==============================] - 0s 153us/step - loss: 0.6700 - acc: 0.6016 - val_loss: 0.6763 - val_acc: 0.5182\n",
            "Epoch 22/100\n",
            "128/128 [==============================] - 0s 163us/step - loss: 0.6653 - acc: 0.6016 - val_loss: 0.6725 - val_acc: 0.5182\n",
            "Epoch 23/100\n",
            "128/128 [==============================] - 0s 162us/step - loss: 0.6622 - acc: 0.6094 - val_loss: 0.6680 - val_acc: 0.5273\n",
            "Epoch 24/100\n",
            "128/128 [==============================] - 0s 157us/step - loss: 0.6582 - acc: 0.6172 - val_loss: 0.6643 - val_acc: 0.5455\n",
            "Epoch 25/100\n",
            "128/128 [==============================] - 0s 163us/step - loss: 0.6549 - acc: 0.6367 - val_loss: 0.6616 - val_acc: 0.5636\n",
            "Epoch 26/100\n",
            "128/128 [==============================] - 0s 154us/step - loss: 0.6515 - acc: 0.6445 - val_loss: 0.6595 - val_acc: 0.5909\n",
            "Epoch 27/100\n",
            "128/128 [==============================] - 0s 149us/step - loss: 0.6484 - acc: 0.6445 - val_loss: 0.6580 - val_acc: 0.6000\n",
            "Epoch 28/100\n",
            "128/128 [==============================] - 0s 199us/step - loss: 0.6455 - acc: 0.6445 - val_loss: 0.6567 - val_acc: 0.6000\n",
            "Epoch 29/100\n",
            "128/128 [==============================] - 0s 161us/step - loss: 0.6429 - acc: 0.6445 - val_loss: 0.6554 - val_acc: 0.6000\n",
            "Epoch 30/100\n",
            "128/128 [==============================] - 0s 168us/step - loss: 0.6403 - acc: 0.6523 - val_loss: 0.6529 - val_acc: 0.6182\n",
            "Epoch 31/100\n",
            "128/128 [==============================] - 0s 192us/step - loss: 0.6380 - acc: 0.6445 - val_loss: 0.6514 - val_acc: 0.6091\n",
            "Epoch 32/100\n",
            "128/128 [==============================] - 0s 175us/step - loss: 0.6361 - acc: 0.6406 - val_loss: 0.6510 - val_acc: 0.6091\n",
            "Epoch 33/100\n",
            "128/128 [==============================] - 0s 149us/step - loss: 0.6336 - acc: 0.6406 - val_loss: 0.6494 - val_acc: 0.6091\n",
            "Epoch 34/100\n",
            "128/128 [==============================] - 0s 158us/step - loss: 0.6312 - acc: 0.6445 - val_loss: 0.6491 - val_acc: 0.6273\n",
            "Epoch 35/100\n",
            "128/128 [==============================] - 0s 148us/step - loss: 0.6291 - acc: 0.6484 - val_loss: 0.6493 - val_acc: 0.6364\n",
            "Epoch 36/100\n",
            "128/128 [==============================] - 0s 171us/step - loss: 0.6270 - acc: 0.6484 - val_loss: 0.6468 - val_acc: 0.6364\n",
            "Epoch 37/100\n",
            "128/128 [==============================] - 0s 159us/step - loss: 0.6253 - acc: 0.6484 - val_loss: 0.6456 - val_acc: 0.6364\n",
            "Epoch 38/100\n",
            "128/128 [==============================] - 0s 159us/step - loss: 0.6236 - acc: 0.6484 - val_loss: 0.6450 - val_acc: 0.6364\n",
            "Epoch 39/100\n",
            "128/128 [==============================] - 0s 159us/step - loss: 0.6220 - acc: 0.6484 - val_loss: 0.6444 - val_acc: 0.6364\n",
            "Epoch 40/100\n",
            "128/128 [==============================] - 0s 161us/step - loss: 0.6202 - acc: 0.6484 - val_loss: 0.6440 - val_acc: 0.6364\n",
            "Epoch 41/100\n",
            "128/128 [==============================] - 0s 157us/step - loss: 0.6186 - acc: 0.6484 - val_loss: 0.6439 - val_acc: 0.6364\n",
            "Epoch 42/100\n",
            "128/128 [==============================] - 0s 152us/step - loss: 0.6173 - acc: 0.6484 - val_loss: 0.6454 - val_acc: 0.6364\n",
            "Epoch 43/100\n",
            "128/128 [==============================] - 0s 154us/step - loss: 0.6157 - acc: 0.6484 - val_loss: 0.6444 - val_acc: 0.6364\n"
          ],
          "name": "stdout"
        },
        {
          "output_type": "display_data",
          "data": {
            "image/png": "[encoded data removed]",
            "text/plain": [
              "<Figure size 432x288 with 1 Axes>"
            ]
          },
          "metadata": {
            "tags": []
          }
        }
      ]
    },
    {
      "cell_type": "code",
      "metadata": {
        "id": "ufsDSujgm6TN",
        "colab_type": "code",
        "outputId": "d42563a6-5e22-4fe3-ed39-693c61b93fe8",
        "colab": {
          "base_uri": "https://localhost:8080/",
          "height": 51
        }
      },
      "source": [
        "model.evaluate(X_test, y_test)"
      ],
      "execution_count": 37,
      "outputs": [
        {
          "output_type": "stream",
          "text": [
            "61/61 [==============================] - 0s 105us/step\n"
          ],
          "name": "stdout"
        },
        {
          "output_type": "execute_result",
          "data": {
            "text/plain": [
              "[0.7075035962902132, 0.6229508177178805]"
            ]
          },
          "metadata": {
            "tags": []
          },
          "execution_count": 37
        }
      ]
    },
    {
      "cell_type": "code",
      "metadata": {
        "id": "kuYvwJulOITN",
        "colab_type": "code",
        "outputId": "e5cfc6d8-fb7c-4ccb-ef20-b5caa300263c",
        "colab": {
          "base_uri": "https://localhost:8080/",
          "height": 289
        }
      },
      "source": [
        "model.summary()"
      ],
      "execution_count": 38,
      "outputs": [
        {
          "output_type": "stream",
          "text": [
            "Model: \"sequential_15\"\n",
            "_________________________________________________________________\n",
            "Layer (type)                 Output Shape              Param #   \n",
            "=================================================================\n",
            "dense_57 (Dense)             (None, 32)                384       \n",
            "_________________________________________________________________\n",
            "dense_58 (Dense)             (None, 16)                528       \n",
            "_________________________________________________________________\n",
            "dense_59 (Dense)             (None, 8)                 136       \n",
            "_________________________________________________________________\n",
            "dense_60 (Dense)             (None, 2)                 18        \n",
            "=================================================================\n",
            "Total params: 1,066\n",
            "Trainable params: 1,066\n",
            "Non-trainable params: 0\n",
            "_________________________________________________________________\n"
          ],
          "name": "stdout"
        }
      ]
    },
    {
      "cell_type": "code",
      "metadata": {
        "id": "fo-1BO9bn_Kc",
        "colab_type": "code",
        "outputId": "fdc9d9e2-0957-4d2f-b52f-e145a6066e7c",
        "colab": {
          "base_uri": "https://localhost:8080/",
          "height": 466
        }
      },
      "source": [
        "from keras.utils import plot_model\n",
        "plot_model(model)"
      ],
      "execution_count": 0,
      "outputs": [
        {
          "output_type": "execute_result",
          "data": {
            "image/png": "[encoded data removed]",
            "text/plain": [
              "<IPython.core.display.Image object>"
            ]
          },
          "metadata": {
            "tags": []
          },
          "execution_count": 10
        }
      ]
    },
    {
      "cell_type": "code",
      "metadata": {
        "id": "QAGPOHqZTZx4",
        "colab_type": "code",
        "colab": {}
      },
      "source": [
        "# deep learning classification with RandomSearchCV\n",
        "def create_model(activation='relu', learning_rate=0.01):\n",
        "  n_cols = X_scaled.shape[1]\n",
        "  opt = Adam(lr=learning_rate)\n",
        "\n",
        "  model = Sequential()\n",
        "  model.add(Dense(50, activation=activation, input_shape=(n_cols,)))\n",
        "  model.add(Dense(50, activation=activation, input_shape=(n_cols,)))\n",
        "  model.add(Dense(50, activation=activation, input_shape=(n_cols,)))\n",
        "  model.add(Dense(2, activation='sigmoid'))\n",
        "  model.compile(optimizer=opt, loss='binary_crossentropy', metrics=['accuracy'])\n",
        "\n",
        "  model.fit(X_scaled, \n",
        "          y, \n",
        "          #epochs=epochs, \n",
        "          validation_split=0.3,\n",
        "          callbacks=[EarlyStopping(monitor='val_loss', patience=5)],\n",
        "          #batch_size=batch_size,\n",
        "          )\n",
        "  return model\n",
        "\n",
        "Kmodel = KerasClassifier(build_fn=create_model)\n",
        "\n",
        "# Define the parameters to try out\n",
        "params = {'activation':['relu', 'tanh'], 'batch_size':[32, 128, 256], \n",
        "          'epochs':[50, 100, 200], 'learning_rate':[0.1, 0.01, 0.001]}\n",
        "\n",
        "random_search = RandomizedSearchCV(Kmodel, param_distributions=params, cv=KFold(3))\n",
        "random_search.fit(X_scaled, y)"
      ],
      "execution_count": 0,
      "outputs": []
    },
    {
      "cell_type": "code",
      "metadata": {
        "id": "ER4_Bs9oY9Nm",
        "colab_type": "code",
        "outputId": "58e14168-7cdd-45f0-fbd2-de548e71e86d",
        "colab": {
          "base_uri": "https://localhost:8080/",
          "height": 34
        }
      },
      "source": [
        "random_search.best_params_"
      ],
      "execution_count": 0,
      "outputs": [
        {
          "output_type": "execute_result",
          "data": {
            "text/plain": [
              "{'activation': 'relu', 'batch_size': 32, 'epochs': 100, 'learning_rate': 0.1}"
            ]
          },
          "metadata": {
            "tags": []
          },
          "execution_count": 54
        }
      ]
    },
    {
      "cell_type": "code",
      "metadata": {
        "id": "wlCBicmEJ99r",
        "colab_type": "code",
        "colab": {}
      },
      "source": [
        "model.save"
      ],
      "execution_count": 0,
      "outputs": []
    },
    {
      "cell_type": "markdown",
      "metadata": {
        "id": "GNiXIYa4h9_v",
        "colab_type": "text"
      },
      "source": [
        "# Regression\n",
        "\n",
        "Predicting 'tip' amount based on the following features: 'total_bill', 'sex', 'smoker', 'day', 'time', 'size'"
      ]
    },
    {
      "cell_type": "code",
      "metadata": {
        "id": "loDBxGVvkc6r",
        "colab_type": "code",
        "colab": {}
      },
      "source": [
        "# # assign dataset to feature and target variables\n",
        "X = tips_df.drop(['tip'], axis=1)\n",
        "y = tips_df['tip']\n",
        "y_reshaped = y.values.reshape(-1,1)"
      ],
      "execution_count": 0,
      "outputs": []
    },
    {
      "cell_type": "code",
      "metadata": {
        "id": "J2Mnp1ccjNVe",
        "colab_type": "code",
        "colab": {}
      },
      "source": [
        "# preprocessing for regression\n",
        "col_trans = make_column_transformer((OneHotEncoder(), ['sex', 'smoker', 'day', 'time']), remainder ='passthrough')\n",
        "scaler = StandardScaler()\n",
        "\n",
        "pipe = make_pipeline(col_trans, scaler)\n",
        "X_scaled = pipe.fit_transform(X)"
      ],
      "execution_count": 0,
      "outputs": []
    },
    {
      "cell_type": "code",
      "metadata": {
        "id": "PdpJrryAoYqK",
        "colab_type": "code",
        "outputId": "2713a2d2-0b69-491e-abe2-d47ad87b7ab4",
        "colab": {
          "base_uri": "https://localhost:8080/",
          "height": 238
        }
      },
      "source": [
        "# deep learning regression \n",
        "\n",
        "n_cols = X_scaled.shape[1]\n",
        "\n",
        "reg_model = Sequential()\n",
        "reg_model.add(Dense(500, activation='relu', input_shape=(n_cols,)))\n",
        "reg_model.add(Dense(300, activation='relu'))\n",
        "reg_model.add(Dense(300, activation='relu'))\n",
        "reg_model.add(Dense(1))\n",
        "\n",
        "reg_model.compile(optimizer='adam', loss='mean_squared_error')\n",
        "reg_model.fit(X_scaled, y_reshaped, validation_split=0.3, epochs=5)\n",
        "reg_model.evaluate(X_scaled, y_reshaped)"
      ],
      "execution_count": 0,
      "outputs": [
        {
          "output_type": "stream",
          "text": [
            "Train on 170 samples, validate on 74 samples\n",
            "Epoch 1/5\n",
            "170/170 [==============================] - 3s 16ms/step - loss: 4.4426 - val_loss: 2.7362\n",
            "Epoch 2/5\n",
            "170/170 [==============================] - 0s 175us/step - loss: 2.0269 - val_loss: 0.6680\n",
            "Epoch 3/5\n",
            "170/170 [==============================] - 0s 161us/step - loss: 0.6765 - val_loss: 0.8623\n",
            "Epoch 4/5\n",
            "170/170 [==============================] - 0s 218us/step - loss: 0.5228 - val_loss: 0.6200\n",
            "Epoch 5/5\n",
            "170/170 [==============================] - 0s 162us/step - loss: 0.3099 - val_loss: 0.3141\n",
            "244/244 [==============================] - 0s 66us/step\n"
          ],
          "name": "stdout"
        },
        {
          "output_type": "execute_result",
          "data": {
            "text/plain": [
              "0.1789891558592437"
            ]
          },
          "metadata": {
            "tags": []
          },
          "execution_count": 58
        }
      ]
    },
    {
      "cell_type": "code",
      "metadata": {
        "id": "3OIQC2IulOJL",
        "colab_type": "code",
        "outputId": "694b4e61-02f1-4961-f4fd-e51252f02408",
        "colab": {
          "base_uri": "https://localhost:8080/",
          "height": 279
        }
      },
      "source": [
        "# visualize results\n",
        "plt.plot(reg_model.history.history['loss'], 'r')\n",
        "plt.plot(reg_model.history.history['val_loss'], 'b')\n",
        "plt.xlabel('epoch')\n",
        "plt.ylabel('loss')\n",
        "plt.show()"
      ],
      "execution_count": 0,
      "outputs": [
        {
          "output_type": "display_data",
          "data": {
            "image/png": "[encoded data removed]",
            "text/plain": [
              "<Figure size 432x288 with 1 Axes>"
            ]
          },
          "metadata": {
            "tags": []
          }
        }
      ]
    },
    {
      "cell_type": "code",
      "metadata": {
        "id": "fGudAwXsoeHr",
        "colab_type": "code",
        "outputId": "0a4ae601-7d91-412d-f5bb-0f512eff67f5",
        "colab": {
          "base_uri": "https://localhost:8080/",
          "height": 289
        }
      },
      "source": [
        "reg_model.summary()"
      ],
      "execution_count": 0,
      "outputs": [
        {
          "output_type": "stream",
          "text": [
            "Model: \"sequential_38\"\n",
            "_________________________________________________________________\n",
            "Layer (type)                 Output Shape              Param #   \n",
            "=================================================================\n",
            "dense_149 (Dense)            (None, 500)               6000      \n",
            "_________________________________________________________________\n",
            "dense_150 (Dense)            (None, 300)               150300    \n",
            "_________________________________________________________________\n",
            "dense_151 (Dense)            (None, 300)               90300     \n",
            "_________________________________________________________________\n",
            "dense_152 (Dense)            (None, 1)                 301       \n",
            "=================================================================\n",
            "Total params: 246,901\n",
            "Trainable params: 246,901\n",
            "Non-trainable params: 0\n",
            "_________________________________________________________________\n"
          ],
          "name": "stdout"
        }
      ]
    }
  ]
}